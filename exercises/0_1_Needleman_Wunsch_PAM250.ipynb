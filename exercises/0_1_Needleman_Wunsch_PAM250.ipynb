{
 "cells": [
  {
   "cell_type": "markdown",
   "id": "1419a934",
   "metadata": {},
   "source": [
    "### Pairwise global sequence alignment"
   ]
  },
  {
   "cell_type": "code",
   "execution_count": null,
   "id": "1960e496",
   "metadata": {},
   "outputs": [
    {
     "ename": "",
     "evalue": "",
     "output_type": "error",
     "traceback": [
      "\u001b[1;31mRunning cells with 'bioinfo24 (Python 3.13.2)' requires the ipykernel package.\n",
      "\u001b[1;31mRun the following command to install 'ipykernel' into the Python environment. \n",
      "\u001b[1;31mCommand: 'conda install -n bioinfo24 ipykernel --update-deps --force-reinstall'"
     ]
    }
   ],
   "source": [
    "import numpy as np\n",
    "import Bio.Align.substitution_matrices"
   ]
  },
  {
   "cell_type": "code",
   "execution_count": 2,
   "id": "a51ae3f7",
   "metadata": {},
   "outputs": [],
   "source": [
    "PAM250 = Bio.Align.substitution_matrices.load('PAM250')"
   ]
  },
  {
   "cell_type": "code",
   "execution_count": 3,
   "id": "ee72a97f",
   "metadata": {},
   "outputs": [],
   "source": [
    "aa_list = PAM250.alphabet[:20]"
   ]
  },
  {
   "cell_type": "code",
   "execution_count": 4,
   "id": "841e5e25",
   "metadata": {},
   "outputs": [],
   "source": [
    "seq1 = \"GKVNVDEVGG\"\n",
    "seq2 = \"GKVEADIPGHGQEV\"\n",
    "\n",
    "num_rows = len(seq2) + 1\n",
    "num_cols = len(seq1) + 1\n",
    "\n",
    "F = np.zeros(shape=(num_rows,num_cols),dtype=\"int\")\n",
    "\n",
    "T = np.full(shape=(num_rows,num_cols),dtype=\"str\", fill_value=\" \")\n",
    "\n",
    "d = -2 # gap penalty\n",
    "\n",
    "F[0][0] = 0\n",
    "\n",
    "for i in range(1, num_rows):\n",
    "    F[i][0] = F[i-1][0] + d\n",
    "    \n",
    "for j in range(1, num_cols):\n",
    "    F[0][j] = F[0][j-1] + d"
   ]
  },
  {
   "cell_type": "code",
   "execution_count": 5,
   "id": "45b34faa",
   "metadata": {},
   "outputs": [],
   "source": [
    "T[0][0] = '.'\n",
    "\n",
    "for i in range(1, num_rows):\n",
    "    T[i][0] = 'u'\n",
    "    \n",
    "for j in range(1, num_cols):\n",
    "    T[0][j] = 'l'"
   ]
  },
  {
   "cell_type": "code",
   "execution_count": 6,
   "id": "b94d3fd9",
   "metadata": {},
   "outputs": [
    {
     "data": {
      "text/plain": [
       "array([['.', 'l', 'l', 'l', 'l', 'l', 'l', 'l', 'l', 'l', 'l'],\n",
       "       ['u', ' ', ' ', ' ', ' ', ' ', ' ', ' ', ' ', ' ', ' '],\n",
       "       ['u', ' ', ' ', ' ', ' ', ' ', ' ', ' ', ' ', ' ', ' '],\n",
       "       ['u', ' ', ' ', ' ', ' ', ' ', ' ', ' ', ' ', ' ', ' '],\n",
       "       ['u', ' ', ' ', ' ', ' ', ' ', ' ', ' ', ' ', ' ', ' '],\n",
       "       ['u', ' ', ' ', ' ', ' ', ' ', ' ', ' ', ' ', ' ', ' '],\n",
       "       ['u', ' ', ' ', ' ', ' ', ' ', ' ', ' ', ' ', ' ', ' '],\n",
       "       ['u', ' ', ' ', ' ', ' ', ' ', ' ', ' ', ' ', ' ', ' '],\n",
       "       ['u', ' ', ' ', ' ', ' ', ' ', ' ', ' ', ' ', ' ', ' '],\n",
       "       ['u', ' ', ' ', ' ', ' ', ' ', ' ', ' ', ' ', ' ', ' '],\n",
       "       ['u', ' ', ' ', ' ', ' ', ' ', ' ', ' ', ' ', ' ', ' '],\n",
       "       ['u', ' ', ' ', ' ', ' ', ' ', ' ', ' ', ' ', ' ', ' '],\n",
       "       ['u', ' ', ' ', ' ', ' ', ' ', ' ', ' ', ' ', ' ', ' '],\n",
       "       ['u', ' ', ' ', ' ', ' ', ' ', ' ', ' ', ' ', ' ', ' '],\n",
       "       ['u', ' ', ' ', ' ', ' ', ' ', ' ', ' ', ' ', ' ', ' ']],\n",
       "      dtype='<U1')"
      ]
     },
     "execution_count": 6,
     "metadata": {},
     "output_type": "execute_result"
    }
   ],
   "source": [
    "T"
   ]
  },
  {
   "cell_type": "code",
   "execution_count": 7,
   "id": "39bbf8df",
   "metadata": {},
   "outputs": [
    {
     "data": {
      "text/plain": [
       "array([[  0,  -2,  -4,  -6,  -8, -10, -12, -14, -16, -18, -20],\n",
       "       [ -2,   0,   0,   0,   0,   0,   0,   0,   0,   0,   0],\n",
       "       [ -4,   0,   0,   0,   0,   0,   0,   0,   0,   0,   0],\n",
       "       [ -6,   0,   0,   0,   0,   0,   0,   0,   0,   0,   0],\n",
       "       [ -8,   0,   0,   0,   0,   0,   0,   0,   0,   0,   0],\n",
       "       [-10,   0,   0,   0,   0,   0,   0,   0,   0,   0,   0],\n",
       "       [-12,   0,   0,   0,   0,   0,   0,   0,   0,   0,   0],\n",
       "       [-14,   0,   0,   0,   0,   0,   0,   0,   0,   0,   0],\n",
       "       [-16,   0,   0,   0,   0,   0,   0,   0,   0,   0,   0],\n",
       "       [-18,   0,   0,   0,   0,   0,   0,   0,   0,   0,   0],\n",
       "       [-20,   0,   0,   0,   0,   0,   0,   0,   0,   0,   0],\n",
       "       [-22,   0,   0,   0,   0,   0,   0,   0,   0,   0,   0],\n",
       "       [-24,   0,   0,   0,   0,   0,   0,   0,   0,   0,   0],\n",
       "       [-26,   0,   0,   0,   0,   0,   0,   0,   0,   0,   0],\n",
       "       [-28,   0,   0,   0,   0,   0,   0,   0,   0,   0,   0]])"
      ]
     },
     "execution_count": 7,
     "metadata": {},
     "output_type": "execute_result"
    }
   ],
   "source": [
    "F"
   ]
  },
  {
   "cell_type": "code",
   "execution_count": 8,
   "id": "04e10c09",
   "metadata": {},
   "outputs": [
    {
     "name": "stdout",
     "output_type": "stream",
     "text": [
      "[[  0  -2  -4  -6  -8 -10 -12 -14 -16 -18 -20]\n",
      " [ -2   5   3   1  -1  -3  -5  -7  -9 -11 -13]\n",
      " [ -4   3  10   8   6   4   2   0  -2  -4  -6]\n",
      " [ -6   1   8  14  12  10   8   6   4   2   0]\n",
      " [ -8  -1   6  12  15  13  13  12  10   8   6]\n",
      " [-10  -3   4  10  13  15  13  13  12  11   9]\n",
      " [-12  -5   2   8  12  13  19  17  15  13  12]\n",
      " [-14  -7   0   6  10  16  17  17  21  19  17]\n",
      " [-16  -9  -2   4   8  14  15  16  19  21  19]\n",
      " [-18 -11  -4   2   6  12  15  15  17  24  26]\n",
      " [-20 -13  -6   0   4  10  13  16  15  22  24]\n",
      " [-22 -15  -8  -2   2   8  11  14  15  20  27]\n",
      " [-24 -17 -10  -4   0   6  10  13  13  18  25]\n",
      " [-26 -19 -12  -6  -2   4   9  14  12  16  23]\n",
      " [-28 -21 -14  -8  -4   2   7  12  18  16  21]]\n",
      "[['.' 'l' 'l' 'l' 'l' 'l' 'l' 'l' 'l' 'l' 'l']\n",
      " ['u' 'd' 'l' 'l' 'l' 'l' 'l' 'l' 'l' 'd' 'd']\n",
      " ['u' 'u' 'd' 'l' 'l' 'l' 'l' 'l' 'l' 'l' 'l']\n",
      " ['u' 'u' 'u' 'd' 'l' 'd' 'l' 'l' 'd' 'l' 'l']\n",
      " ['u' 'u' 'u' 'u' 'd' 'l' 'd' 'd' 'l' 'l' 'l']\n",
      " ['u' 'u' 'u' 'u' 'u' 'd' 'd' 'd' 'd' 'd' 'd']\n",
      " ['u' 'u' 'u' 'u' 'd' 'u' 'd' 'l' 'l' 'd' 'd']\n",
      " ['u' 'u' 'u' 'd' 'u' 'd' 'u' 'd' 'd' 'l' 'l']\n",
      " ['u' 'u' 'u' 'u' 'u' 'u' 'd' 'd' 'u' 'd' 'd']\n",
      " ['u' 'd' 'u' 'u' 'u' 'u' 'd' 'd' 'u' 'd' 'd']\n",
      " ['u' 'u' 'u' 'u' 'd' 'u' 'd' 'd' 'u' 'u' 'u']\n",
      " ['u' 'd' 'u' 'u' 'u' 'u' 'd' 'u' 'd' 'd' 'd']\n",
      " ['u' 'u' 'u' 'u' 'u' 'u' 'd' 'd' 'u' 'u' 'u']\n",
      " ['u' 'u' 'u' 'u' 'u' 'u' 'd' 'd' 'l' 'u' 'u']\n",
      " ['u' 'u' 'u' 'd' 'u' 'd' 'u' 'u' 'd' 'l' 'u']]\n"
     ]
    }
   ],
   "source": [
    "#match_score = 2\n",
    "#mismatch_score = -1\n",
    "\n",
    "for i in range(1, num_rows):\n",
    "    for j in range(1, num_cols):\n",
    "        aa_2 = seq2[i-1]\n",
    "        aa_1 = seq1[j-1]\n",
    "        aa_2_index = aa_list.find(aa_2)\n",
    "        aa_1_index = aa_list.find(aa_1)\n",
    "        if aa_2 == aa_1:\n",
    "            match_mismatch_score = F[i-1][j-1] + PAM250[aa_2_index][aa_1_index]\n",
    "        elif aa_2 != aa_1:\n",
    "            match_mismatch_score = F[i-1][j-1] + PAM250[aa_2_index][aa_1_index]\n",
    "        \n",
    "        right_gap_score = F[i][j-1] + d\n",
    "        left_gap_score = F[i-1][j] + d\n",
    "        \n",
    "        F[i,j] = np.max([match_mismatch_score, right_gap_score, left_gap_score])\n",
    "        which_max = np.argmax([match_mismatch_score, right_gap_score, left_gap_score])\n",
    "        \n",
    "        if which_max == 0:\n",
    "            T[i,j] = 'd' # diagonal\n",
    "        elif which_max == 1:\n",
    "            T[i,j] = 'l' # left\n",
    "        elif which_max == 2:\n",
    "            T[i,j] = 'u' # up\n",
    "            \n",
    "print(F)\n",
    "print(T)"
   ]
  },
  {
   "cell_type": "code",
   "execution_count": 9,
   "id": "cb7e61ad",
   "metadata": {},
   "outputs": [
    {
     "name": "stdout",
     "output_type": "stream",
     "text": [
      "-\n",
      "V\n",
      "--\n",
      "EV\n",
      "---\n",
      "QEV\n",
      "G---\n",
      "GQEV\n",
      "-G---\n",
      "HGQEV\n",
      "G-G---\n",
      "GHGQEV\n",
      "-G-G---\n",
      "PGHGQEV\n",
      "V-G-G---\n",
      "IPGHGQEV\n",
      "EV-G-G---\n",
      "-IPGHGQEV\n",
      "DEV-G-G---\n",
      "D-IPGHGQEV\n",
      "VDEV-G-G---\n",
      "AD-IPGHGQEV\n",
      "NVDEV-G-G---\n",
      "EAD-IPGHGQEV\n",
      "VNVDEV-G-G---\n",
      "VEAD-IPGHGQEV\n",
      "KVNVDEV-G-G---\n",
      "KVEAD-IPGHGQEV\n",
      "GKVNVDEV-G-G---\n",
      "GKVEAD-IPGHGQEV\n",
      "GKVNVDEV-G-G---\n",
      "GKVEAD-IPGHGQEV\n"
     ]
    }
   ],
   "source": [
    "direction = ' '\n",
    "\n",
    "row_index = num_rows - 1 \n",
    "col_index = num_cols - 1\n",
    "\n",
    "aln_seq1 = ''\n",
    "aln_seq2 = ''\n",
    "\n",
    "while direction != '.':\n",
    "    direction = T[row_index,col_index]\n",
    "    \n",
    "    if direction == 'd':\n",
    "        row_index = row_index - 1\n",
    "        col_index = col_index - 1\n",
    "        aln_seq1 = aln_seq1 + seq1[col_index]\n",
    "        aln_seq2 = aln_seq2 + seq2[row_index]\n",
    "        \n",
    "    elif direction == 'l':\n",
    "        col_index = col_index - 1\n",
    "        aln_seq2 = aln_seq2 + '-'\n",
    "        aln_seq1 = aln_seq1 + seq1[col_index]\n",
    "        \n",
    "    elif direction == 'u':\n",
    "        row_index = row_index - 1\n",
    "        aln_seq1 = aln_seq1 + '-'\n",
    "        aln_seq2 = aln_seq2 + seq2[row_index]\n",
    "        \n",
    "        \n",
    "    print(aln_seq1[::-1])\n",
    "    print(aln_seq2[::-1])"
   ]
  },
  {
   "cell_type": "code",
   "execution_count": null,
   "id": "3d407220",
   "metadata": {},
   "outputs": [],
   "source": []
  }
 ],
 "metadata": {
  "kernelspec": {
   "display_name": "bioinfo24",
   "language": "python",
   "name": "python3"
  },
  "language_info": {
   "codemirror_mode": {
    "name": "ipython",
    "version": 3
   },
   "file_extension": ".py",
   "mimetype": "text/x-python",
   "name": "python",
   "nbconvert_exporter": "python",
   "pygments_lexer": "ipython3",
   "version": "3.13.2"
  }
 },
 "nbformat": 4,
 "nbformat_minor": 5
}
