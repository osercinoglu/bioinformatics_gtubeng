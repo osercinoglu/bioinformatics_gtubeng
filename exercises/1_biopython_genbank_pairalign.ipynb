{
 "cells": [
  {
   "cell_type": "markdown",
   "id": "fea91a64",
   "metadata": {},
   "source": [
    "**Last modified on**: 30/10/2024\n",
    "\n",
    "**Author**: Onur Serçinoğlu\n",
    "\n",
    "**Credits**:\n",
    "\n",
    "The following resources have been used to prepare this Jupyter notebook:\n",
    "\n",
    "- A Jupyter notebook prepared by Prof. Ian Simpson for the Bioinformatics I course taught at University of Edinburgh (**https://github.com/tisimpson/bioinformatics1/blob/main/labs/notebooks/bio1_week2_part1.ipynb**)\n",
    "\n",
    "- Pairwise sequence alignment exercises as part of Introduction to Bioinformatics course taught at Denmark Technical University (**https://teaching.healthtech.dtu.dk/22111/index.php/ExPairwiseAlignment**)"
   ]
  },
  {
   "cell_type": "markdown",
   "id": "b830dd11",
   "metadata": {},
   "source": [
    "# Introduction to Python and Jupyter Notebooks"
   ]
  },
  {
   "cell_type": "markdown",
   "id": "9444303b",
   "metadata": {},
   "source": [
    "\n",
    "This notebook will guide you through using Python for bioinformatics applications, using **Jupyter Notebooks** as the primary environment.\n",
    "\n",
    "Jupyter Notebooks allow you to write and execute code interactively, making them a powerful tool for exploring data and performing analysis in a convenient, intuitive format.\n",
    "\n",
    "Throughout this course, you'll see how Python can be applied to bioinformatics problems, such as working with DNA, proteins, and various forms of biological data.\n"
   ]
  },
  {
   "cell_type": "markdown",
   "id": "305828fd-26cc-4865-8d81-17d77744b434",
   "metadata": {},
   "source": [
    "Have no previous coding or Python experience? You may wish to make use of hundreds of web resources that teach Python in various ways. \n",
    "\n",
    "**https://www.learnpython.org/**, is one of these resources, and is quite effective in introducing the fundamentals to absolute beginners!"
   ]
  },
  {
   "cell_type": "markdown",
   "id": "f3f97ce2",
   "metadata": {},
   "source": [
    "## How to Use Jupyter Notebooks\n",
    "\n",
    "In a Jupyter Notebook, cells are used to contain text, code, or other interactive content. There are two main types of cells:\n",
    "\n",
    "1. **Markdown Cells** - These cells (like this one) are used for explanatory text, documentation, or instructions.\n",
    "2. **Code Cells** - These cells contain Python code that can be executed.\n",
    "\n",
    "To run a code cell, simply press `Shift + Enter`, or click the \"Run\" button at the top of the notebook.\n",
    "\n",
    "Let's get started with a simple example. Below, we'll create a Python variable representing a short DNA sequence and print it.\n"
   ]
  },
  {
   "cell_type": "code",
   "execution_count": 1,
   "id": "af35a6ad",
   "metadata": {},
   "outputs": [
    {
     "name": "stdout",
     "output_type": "stream",
     "text": [
      "DNA Sequence: ATGCGTACGTTAG\n"
     ]
    }
   ],
   "source": [
    "# Simple DNA sequence example\n",
    "dna_sequence = \"ATGCGTACGTTAG\"\n",
    "print(f\"DNA Sequence: {dna_sequence}\")"
   ]
  },
  {
   "cell_type": "markdown",
   "id": "b0cbd46c",
   "metadata": {},
   "source": [
    "## Python in Bioinformatics\n",
    "\n",
    "Python is widely used in bioinformatics for handling biological data, performing analysis, and even creating tools for complex data manipulation. \n",
    "\n",
    "In this notebook, we'll work through several examples, such as:\n",
    "\n",
    "1. Counting nucleotides in a DNA sequence.\n",
    "2. Transcribing DNA to RNA.\n",
    "3. Calculating GC content in a sequence.\n",
    "\n",
    "Let's start with a basic nucleotide count function.\n"
   ]
  },
  {
   "cell_type": "code",
   "execution_count": 2,
   "id": "defed3e6",
   "metadata": {},
   "outputs": [
    {
     "name": "stdout",
     "output_type": "stream",
     "text": [
      "Nucleotide counts: {'A': 3, 'T': 4, 'G': 4, 'C': 2}\n"
     ]
    }
   ],
   "source": [
    "# Nucleotide counting function\n",
    "def count_nucleotides(seq):\n",
    "    return {\n",
    "        'A': seq.count('A'),\n",
    "        'T': seq.count('T'),\n",
    "        'G': seq.count('G'),\n",
    "        'C': seq.count('C')\n",
    "    }\n",
    "\n",
    "# Example usage\n",
    "dna_sequence = \"ATGCGTACGTTAG\"\n",
    "nucleotide_counts = count_nucleotides(dna_sequence)\n",
    "print(f\"Nucleotide counts: {nucleotide_counts}\")"
   ]
  },
  {
   "cell_type": "markdown",
   "id": "68dc14d3",
   "metadata": {},
   "source": [
    "\n",
    "### Transcribing DNA to RNA\n",
    "\n",
    "In bioinformatics, one common task is converting DNA sequences to their corresponding RNA sequences. Here's a simple Python function to perform this transcription.\n"
   ]
  },
  {
   "cell_type": "code",
   "execution_count": 3,
   "id": "938235a9",
   "metadata": {},
   "outputs": [
    {
     "name": "stdout",
     "output_type": "stream",
     "text": [
      "Transcribed RNA Sequence: AUGCGUACGUUAG\n"
     ]
    }
   ],
   "source": [
    "# DNA to RNA transcription function\n",
    "def transcribe_dna_to_rna(seq):\n",
    "    return seq.replace('T', 'U')\n",
    "\n",
    "# Example usage\n",
    "rna_sequence = transcribe_dna_to_rna(dna_sequence)\n",
    "print(f\"Transcribed RNA Sequence: {rna_sequence}\")"
   ]
  },
  {
   "cell_type": "markdown",
   "id": "13939357",
   "metadata": {},
   "source": [
    "## Introduction to Biopython"
   ]
  },
  {
   "cell_type": "markdown",
   "id": "1e82eca3",
   "metadata": {},
   "source": [
    "**Biopython** is a powerful library that provides tools for working with biological data in Python. It is widely used in bioinformatics for tasks such as parsing bioinformatics file formats, interacting with biological databases, and running sequence analyses.\n",
    "\n",
    "To find out more about Biopython, its full set of features, and a set of tutorials, please visit the official biopython website: \n",
    "\n",
    "*http://biopython.org*"
   ]
  },
  {
   "cell_type": "markdown",
   "id": "0df81fec",
   "metadata": {},
   "source": [
    "### Why use Biopython?"
   ]
  },
  {
   "cell_type": "markdown",
   "id": "5202363b",
   "metadata": {},
   "source": [
    "Biopython offers a range of functionality that makes it easier to perform bioinformatics tasks such as:\n",
    "\n",
    "**Reading and writing sequence files**: Biopython supports many popular formats like FASTA, GenBank, and others.\n",
    "\n",
    "**Performing common operations**: Including sequence manipulation, motif finding, and gene annotation.\n",
    "\n",
    "**Interacting with online databases**: You can fetch sequences directly from databases like NCBI using Biopython's built-in functions.\n",
    "\n",
    "**Handling complex data types**: It simplifies working with biological data structures like sequences, alignments, and phylogenetic trees."
   ]
  },
  {
   "cell_type": "markdown",
   "id": "3f13c759",
   "metadata": {},
   "source": [
    "### Installing Biopython"
   ]
  },
  {
   "cell_type": "markdown",
   "id": "de37d87c",
   "metadata": {},
   "source": [
    "You don't need to install Biopython in case you're connected to our in-hourse JupyterHub server using the username and password provided to you by the course instructor.\n",
    "\n",
    "If you wish to run the examples on your own device, biopython is easily installed using either pip or conda:\n",
    "\n",
    "**conda install -c conda-forge biopython**\n",
    "\n",
    "**pip install biopython**"
   ]
  },
  {
   "cell_type": "markdown",
   "id": "d0ad96e9",
   "metadata": {},
   "source": [
    "Once installed, you can import Biopython and start using its features."
   ]
  },
  {
   "cell_type": "markdown",
   "id": "6ba29d59",
   "metadata": {},
   "source": [
    "### Example: Reading a FASTA File"
   ]
  },
  {
   "cell_type": "markdown",
   "id": "3c3446cf",
   "metadata": {},
   "source": [
    "Biopython makes reading sequence files very simple. Here's how to read a FASTA file:"
   ]
  },
  {
   "cell_type": "code",
   "execution_count": 4,
   "id": "c9a7a341",
   "metadata": {},
   "outputs": [
    {
     "name": "stdout",
     "output_type": "stream",
     "text": [
      "ID: sp|P29600|SUBS_LEDLE\n",
      "Sequence: AQSVPWGISRVQAPAAHNRGLTGSGVKVAVLDTGISTHPDLNIRGGASFVPGEPSTQDGNGHGTHVAGTIAALNNSIGVLGVAPSAELYAVKVLGASGSGSVSSIAQGLEWAGNNGMHVANLSLGSPSPSATLEQAVNSATSRGVLVVAASGNSGAGSISYPARYANAMAVGATDQNNNRASFSQYGAGLDIVAPGVNVQSTYPGSTYASLNGTSMATPHVAGAAALVKQKNPSWSNVQIRNHLKNTATSLGSTNLYGSGLVNAEAATR\n"
     ]
    }
   ],
   "source": [
    "from Bio import SeqIO\n",
    "\n",
    "# Load and parse a FASTA file\n",
    "for record in SeqIO.parse(\"P29600.fa\", \"fasta\"):\n",
    "    print(f\"ID: {record.id}\")\n",
    "    print(f\"Sequence: {record.seq}\")"
   ]
  },
  {
   "cell_type": "markdown",
   "id": "4bef5651-5e36-47d5-9a06-67cc802c9797",
   "metadata": {
    "vscode": {
     "languageId": "plaintext"
    }
   },
   "source": [
    "### Example: Creating a DNA sequence"
   ]
  },
  {
   "cell_type": "code",
   "execution_count": 5,
   "id": "1352d86e-9bba-4b72-8f70-caffb0387e6e",
   "metadata": {},
   "outputs": [
    {
     "name": "stdout",
     "output_type": "stream",
     "text": [
      "AGTACACTGGT\n",
      "ACCAGTGTACT\n"
     ]
    }
   ],
   "source": [
    "from Bio.Seq import Seq\n",
    "my_seq = Seq(\"AGTACACTGGT\")\n",
    "print(my_seq)\n",
    "\n",
    "# print the reverse complement of the sequence\n",
    "print(my_seq.reverse_complement())"
   ]
  },
  {
   "cell_type": "markdown",
   "id": "6f190cb3-6110-41ef-832e-c4509c2f3a31",
   "metadata": {},
   "source": [
    "### Example: Basic operations on DNA sequences"
   ]
  },
  {
   "cell_type": "code",
   "execution_count": 7,
   "id": "28de1930-e80a-41b8-b12b-8b80ac4aac10",
   "metadata": {},
   "outputs": [
    {
     "name": "stdout",
     "output_type": "stream",
     "text": [
      "11 nucletotides long\n"
     ]
    },
    {
     "ename": "ImportError",
     "evalue": "cannot import name 'GC' from 'Bio.SeqUtils' (/Users/onur/miniconda3/envs/bioinfo24/lib/python3.13/site-packages/Bio/SeqUtils/__init__.py)",
     "output_type": "error",
     "traceback": [
      "\u001b[0;31m---------------------------------------------------------------------------\u001b[0m",
      "\u001b[0;31mImportError\u001b[0m                               Traceback (most recent call last)",
      "Cell \u001b[0;32mIn[7], line 5\u001b[0m\n\u001b[1;32m      2\u001b[0m \u001b[38;5;28mprint\u001b[39m(\u001b[38;5;28mlen\u001b[39m(my_seq),\u001b[38;5;124m\"\u001b[39m\u001b[38;5;124mnucletotides long\u001b[39m\u001b[38;5;124m\"\u001b[39m)\n\u001b[1;32m      4\u001b[0m \u001b[38;5;66;03m#sequence %GC content\u001b[39;00m\n\u001b[0;32m----> 5\u001b[0m \u001b[38;5;28;01mfrom\u001b[39;00m \u001b[38;5;21;01mBio\u001b[39;00m\u001b[38;5;21;01m.\u001b[39;00m\u001b[38;5;21;01mSeqUtils\u001b[39;00m \u001b[38;5;28;01mimport\u001b[39;00m GC\n\u001b[1;32m      7\u001b[0m \u001b[38;5;66;03m#simple print\u001b[39;00m\n\u001b[1;32m      8\u001b[0m \u001b[38;5;28mprint\u001b[39m(\u001b[38;5;124m\"\u001b[39m\u001b[38;5;132;01m%G\u001b[39;00m\u001b[38;5;124mC content = \u001b[39m\u001b[38;5;124m\"\u001b[39m,GC(my_seq),\u001b[38;5;124m\"\u001b[39m\u001b[38;5;124m%\u001b[39m\u001b[38;5;124m\"\u001b[39m)\n",
      "\u001b[0;31mImportError\u001b[0m: cannot import name 'GC' from 'Bio.SeqUtils' (/Users/onur/miniconda3/envs/bioinfo24/lib/python3.13/site-packages/Bio/SeqUtils/__init__.py)"
     ]
    }
   ],
   "source": [
    "#sequence length\n",
    "print(len(my_seq),\"nucletotides long\")\n",
    "\n",
    "#sequence %GC content\n",
    "from Bio.SeqUtils import GC\n",
    "\n",
    "#simple print\n",
    "print(\"%GC content = \",GC(my_seq),\"%\")\n",
    "\n",
    "#printing to two decimal places\n",
    "print(\"%GC content = \"+'%4.2f' % GC(my_seq)+\"%\")"
   ]
  },
  {
   "cell_type": "markdown",
   "id": "19d3804e-820a-4c67-b723-e869946e3fda",
   "metadata": {},
   "source": [
    "**Why is GC content of DNA sequences important?**"
   ]
  },
  {
   "cell_type": "code",
   "execution_count": null,
   "id": "7b687235-490e-41f9-a3d1-bcc4c0087516",
   "metadata": {},
   "outputs": [],
   "source": [
    "#original sequence\n",
    "print(\"original sequence\",my_seq)\n",
    "\n",
    "#sequence slicing NB this displays nucleotides 2-5\n",
    "print(\"indexing from 1->5\",my_seq[1:5])\n",
    "\n",
    "#the sequence is indexed from 0\n",
    "print(\"indexing from 0->5\",my_seq[0:5])"
   ]
  },
  {
   "cell_type": "code",
   "execution_count": null,
   "id": "9170a06f-80af-4ccf-bab4-8c7b33663111",
   "metadata": {},
   "outputs": [],
   "source": [
    "#complement of the sequence\n",
    "print(my_seq.complement())\n",
    "\n",
    "#reverse complement of the sequence\n",
    "print(my_seq.reverse_complement())"
   ]
  },
  {
   "cell_type": "markdown",
   "id": "4d78f12f-8611-4fb0-8e6f-40a0adc30aea",
   "metadata": {},
   "source": [
    "### Biopython also contains useful metadata!"
   ]
  },
  {
   "cell_type": "code",
   "execution_count": null,
   "id": "97d197ed-8519-4721-bf8a-151722027a54",
   "metadata": {},
   "outputs": [],
   "source": [
    "from Bio.Data import CodonTable\n",
    "standard_table = CodonTable.unambiguous_dna_by_id[1]\n",
    "\n",
    "print(standard_table)"
   ]
  },
  {
   "cell_type": "code",
   "execution_count": null,
   "id": "8f15fabd-298f-4a67-a175-4ee20a183bcb",
   "metadata": {},
   "outputs": [],
   "source": [
    "#and STOP codons\n",
    "print(standard_table.stop_codons)"
   ]
  },
  {
   "cell_type": "markdown",
   "id": "26565bce-a93a-46c5-8538-b4309cf86667",
   "metadata": {},
   "source": [
    "## Using ENTREZ via Biopython to access NCBI GenBank data"
   ]
  },
  {
   "cell_type": "markdown",
   "id": "6944ddda-0cd7-43b6-9514-f800886c8b7f",
   "metadata": {},
   "source": [
    "As introduced above, Biopython contains useful methods to access popular bioinformatics databases, such as the NCBI GenBank.\n",
    "\n",
    "We can make use of the Entrez search systems of NCBI to perform search queries in the GenBank database.\n",
    "\n",
    "Biopython has a module specifically created for this purpose (Biopython Entrez)."
   ]
  },
  {
   "cell_type": "code",
   "execution_count": null,
   "id": "dd242d60-47a3-4a79-87fb-814a6c3545fd",
   "metadata": {},
   "outputs": [],
   "source": [
    "from Bio import Entrez\n",
    "\n",
    "Entrez.email = \"onursercin@gmail.com\""
   ]
  },
  {
   "cell_type": "code",
   "execution_count": null,
   "id": "f1990f22-e1cf-43d4-922f-3cd1ba228985",
   "metadata": {},
   "outputs": [],
   "source": [
    "# we're going to search for up to 1000 sequences and we're going to ask for the accession number for each\n",
    "# note the Entrez esearch function searches and returns a handle to the results.\n",
    "handle = Entrez.esearch(db='nucleotide',term=\"Cypripedioideae\",retmax=1000,idtype='acc')\n",
    "record = Entrez.read(handle)\n",
    "handle.close()\n",
    "\n",
    "#look at the first 10 ids\n",
    "print(record['IdList'][:10])"
   ]
  },
  {
   "cell_type": "code",
   "execution_count": null,
   "id": "31883b4a-0bfe-4dbb-9efb-f325a070cbb3",
   "metadata": {},
   "outputs": [],
   "source": [
    "#lets fetch one\n",
    "accession = record['IdList'][500]\n",
    "\n",
    "handle = Entrez.efetch(db=\"nucleotide\", id=accession, retmode=\"xml\")\n",
    "entry = Entrez.read(handle)\n",
    "handle.close()\n",
    "\n",
    "#print the whole entry (this is a GenBank record in XML format)\n",
    "print(entry)"
   ]
  },
  {
   "cell_type": "code",
   "execution_count": null,
   "id": "05edf739-8b1e-44f2-840e-24fa69ffd073",
   "metadata": {},
   "outputs": [],
   "source": [
    "print(entry[0]['GBSeq_definition'])\n",
    "print(entry[0]['GBSeq_organism'])"
   ]
  },
  {
   "cell_type": "markdown",
   "id": "f092e6c6-f0be-40c9-8c7f-1cbec0681bac",
   "metadata": {},
   "source": [
    "Let's print the same entry in a more user-friendly format (like how we see it when we visit the NCBI web page)"
   ]
  },
  {
   "cell_type": "code",
   "execution_count": null,
   "id": "5d4d9009-9461-47a6-abe1-0be6291ab6d5",
   "metadata": {},
   "outputs": [],
   "source": [
    "handle = Entrez.efetch(db=\"nuccore\", id=accession, rettype=\"gb\", retmode=\"text\")\n",
    "print(handle.read())"
   ]
  },
  {
   "cell_type": "markdown",
   "id": "dfb8bd7b-aa71-4b0a-b2b7-364574796c2c",
   "metadata": {},
   "source": [
    "### Bio.Seq module"
   ]
  },
  {
   "cell_type": "markdown",
   "id": "5e5a5aba-904a-40db-9f04-4573e70f8193",
   "metadata": {},
   "source": [
    "We can use the Bio.SeqIO module to handle groups of records, and then create Bio.Seq.Seq sequence objects to store them for later analysis.\n",
    "\n",
    "This is especially useful if we need to work in A LOT of sequences! (which we often need to in actual bioinformatics tasks)"
   ]
  },
  {
   "cell_type": "code",
   "execution_count": null,
   "id": "14b747c4-c724-4c39-9f0e-3a6770fcdcfc",
   "metadata": {},
   "outputs": [],
   "source": [
    "from Bio import SeqIO\n",
    "handle = Entrez.efetch(db=\"nuccore\", id=accession, rettype=\"gb\", retmode=\"text\")\n",
    "records = SeqIO.parse(handle, \"gb\")\n",
    "\n",
    "for entry in records:\n",
    "    sequence = entry.seq\n",
    "    print(sequence)\n",
    "    print(type(sequence))\n",
    "    \n",
    "print('complement',sequence.complement())\n",
    "print('reverse_complement',sequence.reverse_complement())"
   ]
  },
  {
   "cell_type": "markdown",
   "id": "be3b2ef8-c07d-41be-b08f-6e267c230ced",
   "metadata": {},
   "source": [
    "Let's say we're looking for \"Gene\" entries with title \"Pax6\". In other words, we're looking for all genes named Pax6. \n",
    "\n",
    "We reckon that if the gene name is specific enough, the results will include the same gene but from different organisms or from different experiments (variants among members of the same species)."
   ]
  },
  {
   "cell_type": "code",
   "execution_count": null,
   "id": "184aef66-b85e-4f88-9684-43a17f37df1f",
   "metadata": {},
   "outputs": [],
   "source": [
    "# we're going to limit this to 100 sequences and we're going to ask for the accession number for each\n",
    "\n",
    "# note the Entrez esearch function searches and returns a handle to the results.\n",
    "handle = Entrez.esearch(db='nucleotide',term=\"Pax6[Gene]\",retmax=100)\n",
    "record = Entrez.read(handle)\n",
    "handle.close()\n",
    "\n",
    "#look at the first 10 ids\n",
    "print(record['IdList'][:10])"
   ]
  },
  {
   "cell_type": "code",
   "execution_count": null,
   "id": "4d0842fd-4b08-4d35-a84f-8544e1c6aeff",
   "metadata": {},
   "outputs": [],
   "source": [
    "# now lets fetch them all, to do this we extract the accession id list\n",
    "\n",
    "gi_list = record['IdList']\n",
    "\n",
    "#then turn it into a comma-separated string\n",
    "\n",
    "gi_str = \",\".join(gi_list)\n",
    "\n",
    "handle = Entrez.efetch(db=\"nucleotide\", id=gi_str, rettype=\"gb\", retmode=\"text\")\n",
    "records = SeqIO.parse(handle, \"gb\")\n",
    "\n",
    "for record in records:\n",
    "    print(\"%s, length %i, from organism %s\" % (record.name, len(record), record.description))"
   ]
  },
  {
   "cell_type": "markdown",
   "id": "d761941f-7927-4e89-96d8-d277a38d09ad",
   "metadata": {},
   "source": [
    "Now let's **specifically get the full gene entry from human Pax6 in Genbank!"
   ]
  },
  {
   "cell_type": "code",
   "execution_count": null,
   "id": "2760a3e7-716b-41fe-84fd-c73e5e6c14b8",
   "metadata": {},
   "outputs": [],
   "source": [
    "handle = Entrez.efetch(db=\"nucleotide\", id=\"208879460\", rettype=\"gb\", retmode=\"text\")\n",
    "gb_entry = handle.read()\n",
    "handle.close()\n",
    "\n",
    "#NB this is just a straight string at this point (as we just read() it straight into a string object)\n",
    "print(gb_entry)"
   ]
  },
  {
   "cell_type": "markdown",
   "id": "4d5e86c5-72ef-441b-af03-c28bc6cd77ff",
   "metadata": {},
   "source": [
    "Now let's extract the **coding sequence** from this gene, and translate it into the protein it encodes."
   ]
  },
  {
   "cell_type": "code",
   "execution_count": null,
   "id": "f76585ad-48f0-4d85-aecc-f45714794105",
   "metadata": {},
   "outputs": [],
   "source": [
    "handle = Entrez.efetch(db=\"nucleotide\", id=\"208879460\", rettype=\"gb\", retmode=\"text\")\n",
    "record = SeqIO.read(handle, \"genbank\")\n",
    "\n",
    "if record.features:\n",
    "    for feature in record.features:\n",
    "        #this tag identifies the CoDingSequences from the record\n",
    "        if feature.type == \"CDS\":\n",
    "            print(feature.qualifiers[\"protein_id\"])\n",
    "            print(feature.location,'\\n')\n",
    "            current_sequence = feature.location.extract(record).seq\n",
    "            print('Nucleotide Sequence')\n",
    "            print(current_sequence,'\\n')\n",
    "            #translate the current sequence into protein\n",
    "            print('Protein Sequence')\n",
    "            print(current_sequence.translate(),'\\n')"
   ]
  },
  {
   "cell_type": "code",
   "execution_count": null,
   "id": "01cd4355-a07a-4592-a086-6ce67f1d2e13",
   "metadata": {},
   "outputs": [],
   "source": [
    "# note the Entrez esearch function searches and returns a handle to the results.\n",
    "handle = Entrez.esearch(db='gene',term=\"Nrg1[Gene] AND human\",retmax=100)\n",
    "record = Entrez.read(handle)\n",
    "handle.close()\n",
    "\n",
    "#look at the first 10 ids\n",
    "print(record['IdList'][:10])\n",
    "\n",
    "# lets retrieve as XML format and use the Entrez parser to read it\n",
    "handle = Entrez.efetch(db=\"gene\", id=record['IdList'][:1], retmode=\"xml\")\n",
    "# this returns an array of records which are in Python dict format\n",
    "records = Entrez.read(handle)\n",
    "handle.close()\n",
    "\n",
    "# look at the first record by iterating through the keys of the dict\n",
    "# NB there's a lot of information in here\n",
    "for feature in list(records[0]):\n",
    "    print(feature,':',records[0][feature])"
   ]
  },
  {
   "cell_type": "markdown",
   "id": "aa87a396-639d-4fa1-86cb-6796f6b77613",
   "metadata": {},
   "source": [
    "## Performing pairwise alignment using Biopython"
   ]
  },
  {
   "cell_type": "markdown",
   "id": "d8896a9f-8c3f-4494-9585-dea3cff56f1d",
   "metadata": {},
   "source": [
    "Biopython also allows users to perform pairwise alignments using common amino-acid substitution/scoring matrices."
   ]
  },
  {
   "cell_type": "code",
   "execution_count": null,
   "id": "e0a8d513-6564-45f2-bf37-ea7e1233d9d8",
   "metadata": {},
   "outputs": [],
   "source": [
    "from Bio import SeqIO\n",
    "from Bio import pairwise2 as pw\n",
    "from Bio import AlignIO\n",
    "from Bio import Align as al"
   ]
  },
  {
   "cell_type": "code",
   "execution_count": null,
   "id": "a612fbf3-fbd7-4ab1-b72c-95178ff6c71e",
   "metadata": {},
   "outputs": [],
   "source": [
    "# list the available scoring matrices from the SubsMat module\n",
    "print(al.substitution_matrices.load())\n",
    "\n",
    "# the accession ids of human beta-globin and myoglobin proteins respectively\n",
    "protein_ids = ['NP_000509.1','NP_005359.1']\n",
    "\n",
    "handle = Entrez.efetch(db=\"protein\", id=protein_ids, rettype='fasta',retmode=\"text\")\n",
    "records = list(SeqIO.parse(handle, \"fasta\"))\n",
    "handle.close()\n",
    "\n",
    "# use these as sequence objects\n",
    "beta_globin = records[0].seq\n",
    "myoglobin = records[1].seq"
   ]
  },
  {
   "cell_type": "markdown",
   "id": "bf303d15-5539-4999-9f0a-002aa3c915be",
   "metadata": {},
   "source": [
    "The pairwise2 module has two main functions for alignment 'local' and 'global' when they are called you add two charcters on to those to define how you want to perform the search, for example globalxx or localxx. Those two letters define the following:-\n",
    "\n",
    "**x**     No parameters. Identical characters have score of 1, otherwise 0.\n",
    "\n",
    "**m**     A match score is the score of identical chars, otherwise mismatch\n",
    "      score.\n",
    "      \n",
    "**d**     A dictionary returns the score of any pair of characters.\n",
    "\n",
    "**c**     A callback function returns scores.\n",
    "\n",
    "The gap penalty parameters are:\n",
    "\n",
    "**x**     No gap penalties.\n",
    "\n",
    "**s**    Same open and extend gap penalties for both sequences.\n",
    "\n",
    "**d**     The sequences have different open and extend gap penalties.\n",
    "\n",
    "**c**     A callback function returns the gap penalties.\n",
    "\n",
    "Further details can be found here.\n",
    "\n",
    "As an example though a call of :-\n",
    "\n",
    "pairwise2.align.globalms(\"ACCGT\", \"ACG\", 2, -2, -.5, -.1)\n",
    "for 'm' you specify match (+2) and mismatch (-2) scores and then 's' you specify gap-open (-0.5) and gap-extend (-0.1) scores"
   ]
  },
  {
   "cell_type": "code",
   "execution_count": null,
   "id": "74f4f93c-7c55-49f3-a414-4309447b5bb9",
   "metadata": {},
   "outputs": [],
   "source": [
    "# perform a pairwise local alignment using the pam250 substitution matrix\n",
    "mx = al.substitution_matrices.load('PAM250')\n",
    "\n",
    "alignments = pw.align.localds(beta_globin,myoglobin,mx, -10, -0.5)\n",
    "\n",
    "# this tells us how many alignments have the same optimal score (pretty useful, think of cells with more than \n",
    "# one backtrace mark in the hand-drawn alignments)\n",
    "print(len(alignments))\n",
    "\n",
    "# in the result we can extract several score features\n",
    "\n",
    "# the alignment score\n",
    "print(alignments[0][2])\n",
    "\n",
    "# the start of the alignment\n",
    "print(alignments[0][3])\n",
    "\n",
    "# the end of the alignment\n",
    "print(alignments[0][4])\n",
    "\n",
    "# note here we are using 'd' the pam250 scoring matrix and then 's' gap-open (-10) and gap-extend (-0.5)\n",
    "\n",
    "# unfortunately pairwise2 output looks awful (but its a good built in alignment method for you to practice\n",
    "# with sequence alignment matrices and scoring systems\n",
    "\n",
    "# so we're going to make a very basic fasta format file and use AlignIO to convert it into Clustal alignment\n",
    "# format which is much nicer to look at\n",
    "\n",
    "#create the fasta format\n",
    "# > aligned seq 1\n",
    "# SEQUENCE\n",
    "# > aligned seq 2\n",
    "# SEQUENCE\n",
    "\n",
    "alignment_fasta = \\\n",
    "\">\"+records[0].name+\" \"+records[0].description+\"\\n\"+alignments[0][0] \\\n",
    "+\"\\n\"+ \\\n",
    "\">\"+records[1].name+\" \"+records[1].description+\"\\n\"+alignments[0][1]\n",
    "\n",
    "# write it to a file\n",
    "fh = open('globin_alignment_pam250.fa','w')\n",
    "fh.write(alignment_fasta)\n",
    "fh.close()\n",
    "\n",
    "# read in the file using AlignIO\n",
    "alignment = AlignIO.read(\"globin_alignment_pam250.fa\", \"fasta\")\n",
    "\n",
    "# convert to clustal\n",
    "print(format(alignment,'clustal'))"
   ]
  },
  {
   "cell_type": "code",
   "execution_count": null,
   "id": "c5c06f4a-aae7-4a46-91b6-41c23f5bee07",
   "metadata": {},
   "outputs": [],
   "source": [
    "# perform a pairwise local alignment using the pam30 substitution matrix\n",
    "mx = al.substitution_matrices.load('PAM30')\n",
    "\n",
    "alignments = pw.align.localds(beta_globin,myoglobin,mx, -10, -0.5)\n",
    "\n",
    "alignment_fasta = \\\n",
    "\">\"+records[0].name+\" \"+records[0].description+\"\\n\"+alignments[0][0] \\\n",
    "+\"\\n\"+ \\\n",
    "\">\"+records[1].name+\" \"+records[1].description+\"\\n\"+alignments[0][1]\n",
    "\n",
    "# write it to a file\n",
    "fh = open('globin_alignment_pam30.fa','w')\n",
    "fh.write(alignment_fasta)\n",
    "fh.close()\n",
    "\n",
    "# read in the file using AlignIO\n",
    "alignment = AlignIO.read(\"globin_alignment_pam30.fa\", \"fasta\")\n",
    "\n",
    "# convert to clustal\n",
    "print(format(alignment,'clustal'))"
   ]
  },
  {
   "cell_type": "code",
   "execution_count": null,
   "id": "6d6595f4-6fa4-4138-9c04-beda79513aef",
   "metadata": {},
   "outputs": [],
   "source": [
    "# perform a pairwise global alignment using the pam250 substitution matrix\n",
    "mx = al.substitution_matrices.load('PAM250')\n",
    "\n",
    "alignments = pw.align.globalds(beta_globin,myoglobin,mx, -10, -0.5)\n",
    "\n",
    "# this tells us how many alignments have the same optimal score (pretty useful, think of cells with more than \n",
    "# one backtrace mark in the hand-drawn alignments)\n",
    "print(len(alignments))\n",
    "\n",
    "# in the result we can extract several score features\n",
    "\n",
    "# the alignment score\n",
    "print(alignments[0][2])\n",
    "\n",
    "# the start of the alignment (NB global alignments must always start at 0)\n",
    "print(alignments[0][3])\n",
    "\n",
    "# the end of the alignment\n",
    "print(alignments[0][4])\n",
    "\n",
    "alignment_fasta = \\\n",
    "\">\"+records[0].name+\" \"+records[0].description+\"\\n\"+alignments[0][0] \\\n",
    "+\"\\n\"+ \\\n",
    "\">\"+records[1].name+\" \"+records[1].description+\"\\n\"+alignments[0][1]\n",
    "\n",
    "# write it to a file\n",
    "fh = open('globin_alignment_pam250_global.fa','w')\n",
    "fh.write(alignment_fasta)\n",
    "fh.close()\n",
    "\n",
    "# read in the file using AlignIO\n",
    "alignment = AlignIO.read(\"globin_alignment_pam250_global.fa\", \"fasta\")\n",
    "\n",
    "# convert to clustal\n",
    "print(format(alignment,'clustal'))"
   ]
  },
  {
   "cell_type": "markdown",
   "id": "67410a19-2ec1-404c-b8b6-10522222cd70",
   "metadata": {},
   "source": [
    "## Aligning two serine proteases"
   ]
  },
  {
   "cell_type": "code",
   "execution_count": null,
   "id": "6bd7f56d-c651-444d-854d-0ffb24f82e9b",
   "metadata": {},
   "outputs": [],
   "source": [
    "# Load and parse a FASTA file\n",
    "subs_ledle = SeqIO.parse(\"P29600.fa\", \"fasta\")\n",
    "subs_ledle = next(subs_ledle)"
   ]
  },
  {
   "cell_type": "code",
   "execution_count": null,
   "id": "adfc2591-d1c5-447d-beea-efdb71f2cb80",
   "metadata": {},
   "outputs": [],
   "source": [
    "elya_alkhc = SeqIO.parse(\"P41363.fa\", \"fasta\")\n",
    "elya_alkhc = next(elya_alkhc)"
   ]
  },
  {
   "cell_type": "code",
   "execution_count": null,
   "id": "0896f7e7-f170-4ce9-ad36-f2cff72ec38a",
   "metadata": {},
   "outputs": [],
   "source": [
    "# perform a pairwise global alignment using the pam250 substitution matrix\n",
    "mx = al.substitution_matrices.load('PAM250')\n",
    "\n",
    "alignments = pw.align.globalds(subs_ledle.seq,elya_alkhc.seq,mx, -10, -0.5)\n",
    "\n",
    "# this tells us how many alignments have the same optimal score (pretty useful, think of cells with more than \n",
    "# one backtrace mark in the hand-drawn alignments)\n",
    "print(len(alignments))\n",
    "\n",
    "# in the result we can extract several score features\n",
    "\n",
    "# the alignment score\n",
    "print(alignments[0][2])\n",
    "\n",
    "# the start of the alignment (NB global alignments must always start at 0)\n",
    "print(alignments[0][3])\n",
    "\n",
    "# the end of the alignment\n",
    "print(alignments[0][4])\n",
    "\n",
    "alignment_fasta = \\\n",
    "\">\"+records[0].name+\" \"+records[0].description+\"\\n\"+alignments[0][0] \\\n",
    "+\"\\n\"+ \\\n",
    "\">\"+records[1].name+\" \"+records[1].description+\"\\n\"+alignments[0][1]\n",
    "\n",
    "# write it to a file\n",
    "fh = open('globin_alignment_pam250_global.fa','w')\n",
    "fh.write(alignment_fasta)\n",
    "fh.close()\n",
    "\n",
    "# read in the file using AlignIO\n",
    "alignment = AlignIO.read(\"globin_alignment_pam250_global.fa\", \"fasta\")\n",
    "\n",
    "# convert to clustal\n",
    "print(format(alignment,'clustal'))"
   ]
  },
  {
   "cell_type": "markdown",
   "id": "8589ade4-cc67-4d24-8166-0021ab567719",
   "metadata": {},
   "source": [
    "## Aligning Savinase with a tripeptidly-peptidase 2"
   ]
  },
  {
   "cell_type": "code",
   "execution_count": null,
   "id": "b4cb2593-903c-4b3a-aa64-f44856602c02",
   "metadata": {},
   "outputs": [],
   "source": [
    "tri_pep = SeqIO.parse(\"P29144.fa\", \"fasta\")\n",
    "tri_pep = next(tri_pep)"
   ]
  },
  {
   "cell_type": "code",
   "execution_count": null,
   "id": "7f17b21b-b30a-42cf-ba6c-d6b50d0c5f7b",
   "metadata": {},
   "outputs": [],
   "source": [
    "# perform a pairwise global alignment using the pam250 substitution matrix\n",
    "mx = al.substitution_matrices.load('PAM250')\n",
    "\n",
    "alignments = pw.align.globalds(subs_ledle.seq,tri_pep.seq,mx, -10, -0.5)\n",
    "\n",
    "# this tells us how many alignments have the same optimal score (pretty useful, think of cells with more than \n",
    "# one backtrace mark in the hand-drawn alignments)\n",
    "print(len(alignments))\n",
    "\n",
    "# in the result we can extract several score features\n",
    "\n",
    "# the alignment score\n",
    "print(alignments[0][2])\n",
    "\n",
    "# the start of the alignment (NB global alignments must always start at 0)\n",
    "print(alignments[0][3])\n",
    "\n",
    "# the end of the alignment\n",
    "print(alignments[0][4])\n",
    "\n",
    "alignment_fasta = \\\n",
    "\">\"+records[0].name+\" \"+records[0].description+\"\\n\"+alignments[0][0] \\\n",
    "+\"\\n\"+ \\\n",
    "\">\"+records[1].name+\" \"+records[1].description+\"\\n\"+alignments[0][1]\n",
    "\n",
    "# write it to a file\n",
    "fh = open('globin_alignment_pam250_global.fa','w')\n",
    "fh.write(alignment_fasta)\n",
    "fh.close()\n",
    "\n",
    "# read in the file using AlignIO\n",
    "alignment = AlignIO.read(\"globin_alignment_pam250_global.fa\", \"fasta\")\n",
    "\n",
    "# convert to clustal\n",
    "print(format(alignment,'clustal'))"
   ]
  }
 ],
 "metadata": {
  "kernelspec": {
   "display_name": "bioinfo24",
   "language": "python",
   "name": "python3"
  },
  "language_info": {
   "codemirror_mode": {
    "name": "ipython",
    "version": 3
   },
   "file_extension": ".py",
   "mimetype": "text/x-python",
   "name": "python",
   "nbconvert_exporter": "python",
   "pygments_lexer": "ipython3",
   "version": "3.13.2"
  }
 },
 "nbformat": 4,
 "nbformat_minor": 5
}
