{
 "cells": [
  {
   "cell_type": "markdown",
   "id": "1419a934",
   "metadata": {},
   "source": [
    "### Pairwise global sequence alignment"
   ]
  },
  {
   "cell_type": "code",
   "execution_count": 1,
   "id": "1960e496",
   "metadata": {},
   "outputs": [],
   "source": [
    "import numpy as np"
   ]
  },
  {
   "cell_type": "code",
   "execution_count": 2,
   "id": "841e5e25",
   "metadata": {},
   "outputs": [],
   "source": [
    "seq1 = \"ACGTCCTTCATT\"\n",
    "seq2 = \"GTCTCATG\"\n",
    "\n",
    "num_rows = len(seq2) + 1\n",
    "num_cols = len(seq1) + 1\n",
    "\n",
    "F = np.zeros(shape=(num_rows,num_cols),dtype=\"int\")\n",
    "\n",
    "T = np.full(shape=(num_rows,num_cols),dtype=\"str\", fill_value=\" \")\n",
    " \n",
    "d = -2 # gap penalty\n",
    "\n",
    "F[0][0] = 0\n",
    "\n",
    "for i in range(1, num_rows):\n",
    "    F[i][0] = F[i-1][0] + d\n",
    "    \n",
    "for j in range(1, num_cols):\n",
    "    F[0][j] = F[0][j-1] + d"
   ]
  },
  {
   "cell_type": "code",
   "execution_count": 3,
   "id": "45b34faa",
   "metadata": {},
   "outputs": [],
   "source": [
    "T[0][0] = '.'\n",
    "\n",
    "for i in range(1, num_rows):\n",
    "    T[i][0] = 'u'\n",
    "    \n",
    "for j in range(1, num_cols):\n",
    "    T[0][j] = 'l'"
   ]
  },
  {
   "cell_type": "code",
   "execution_count": 4,
   "id": "b94d3fd9",
   "metadata": {},
   "outputs": [
    {
     "data": {
      "text/plain": [
       "array([['.', 'l', 'l', 'l', 'l', 'l', 'l', 'l', 'l', 'l', 'l', 'l', 'l'],\n",
       "       ['u', ' ', ' ', ' ', ' ', ' ', ' ', ' ', ' ', ' ', ' ', ' ', ' '],\n",
       "       ['u', ' ', ' ', ' ', ' ', ' ', ' ', ' ', ' ', ' ', ' ', ' ', ' '],\n",
       "       ['u', ' ', ' ', ' ', ' ', ' ', ' ', ' ', ' ', ' ', ' ', ' ', ' '],\n",
       "       ['u', ' ', ' ', ' ', ' ', ' ', ' ', ' ', ' ', ' ', ' ', ' ', ' '],\n",
       "       ['u', ' ', ' ', ' ', ' ', ' ', ' ', ' ', ' ', ' ', ' ', ' ', ' '],\n",
       "       ['u', ' ', ' ', ' ', ' ', ' ', ' ', ' ', ' ', ' ', ' ', ' ', ' '],\n",
       "       ['u', ' ', ' ', ' ', ' ', ' ', ' ', ' ', ' ', ' ', ' ', ' ', ' '],\n",
       "       ['u', ' ', ' ', ' ', ' ', ' ', ' ', ' ', ' ', ' ', ' ', ' ', ' ']],\n",
       "      dtype='<U1')"
      ]
     },
     "execution_count": 4,
     "metadata": {},
     "output_type": "execute_result"
    }
   ],
   "source": [
    "T"
   ]
  },
  {
   "cell_type": "code",
   "execution_count": 5,
   "id": "39bbf8df",
   "metadata": {},
   "outputs": [
    {
     "data": {
      "text/plain": [
       "array([[  0,  -2,  -4,  -6,  -8, -10, -12, -14, -16, -18, -20, -22, -24],\n",
       "       [ -2,   0,   0,   0,   0,   0,   0,   0,   0,   0,   0,   0,   0],\n",
       "       [ -4,   0,   0,   0,   0,   0,   0,   0,   0,   0,   0,   0,   0],\n",
       "       [ -6,   0,   0,   0,   0,   0,   0,   0,   0,   0,   0,   0,   0],\n",
       "       [ -8,   0,   0,   0,   0,   0,   0,   0,   0,   0,   0,   0,   0],\n",
       "       [-10,   0,   0,   0,   0,   0,   0,   0,   0,   0,   0,   0,   0],\n",
       "       [-12,   0,   0,   0,   0,   0,   0,   0,   0,   0,   0,   0,   0],\n",
       "       [-14,   0,   0,   0,   0,   0,   0,   0,   0,   0,   0,   0,   0],\n",
       "       [-16,   0,   0,   0,   0,   0,   0,   0,   0,   0,   0,   0,   0]])"
      ]
     },
     "execution_count": 5,
     "metadata": {},
     "output_type": "execute_result"
    }
   ],
   "source": [
    "F"
   ]
  },
  {
   "cell_type": "code",
   "execution_count": 6,
   "id": "04e10c09",
   "metadata": {},
   "outputs": [
    {
     "name": "stdout",
     "output_type": "stream",
     "text": [
      "[[  0  -2  -4  -6  -8 -10 -12 -14 -16 -18 -20 -22 -24]\n",
      " [ -2   0  -2  -3  -5  -7  -9 -11 -13 -15 -17 -19 -21]\n",
      " [ -4  -2   0  -2  -2  -4  -6  -8 -10 -12 -14 -16 -18]\n",
      " [ -6  -4  -1   0  -2  -1  -3  -5  -7  -9 -11 -13 -15]\n",
      " [ -8  -6  -3  -1   1  -1  -1  -2  -4  -6  -8 -10 -12]\n",
      " [-10  -8  -5  -3  -1   2   0  -1  -2  -3  -5  -7  -9]\n",
      " [-12  -9  -7  -5  -3   0   2   0  -1  -2  -2  -4  -6]\n",
      " [-14 -11  -9  -7  -4  -2   0   3   1  -1  -2  -1  -3]\n",
      " [-16 -13 -11  -8  -6  -4  -2   1   3   1  -1  -2  -1]]\n",
      "[['.' 'l' 'l' 'l' 'l' 'l' 'l' 'l' 'l' 'l' 'l' 'l' 'l']\n",
      " ['u' 'd' 'd' 'd' 'l' 'l' 'l' 'l' 'l' 'l' 'l' 'l' 'l']\n",
      " ['u' 'd' 'd' 'd' 'd' 'l' 'l' 'd' 'd' 'l' 'l' 'd' 'd']\n",
      " ['u' 'd' 'd' 'd' 'd' 'd' 'd' 'l' 'l' 'd' 'l' 'l' 'l']\n",
      " ['u' 'd' 'u' 'd' 'd' 'l' 'd' 'd' 'd' 'l' 'l' 'd' 'd']\n",
      " ['u' 'd' 'd' 'd' 'd' 'd' 'd' 'd' 'd' 'd' 'l' 'l' 'l']\n",
      " ['u' 'd' 'u' 'd' 'd' 'u' 'd' 'd' 'd' 'd' 'd' 'l' 'l']\n",
      " ['u' 'u' 'd' 'd' 'd' 'u' 'd' 'd' 'd' 'd' 'd' 'd' 'd']\n",
      " ['u' 'u' 'd' 'd' 'u' 'd' 'd' 'u' 'd' 'd' 'd' 'd' 'd']]\n"
     ]
    }
   ],
   "source": [
    "match_score = 1\n",
    "mismatch_score = 0\n",
    "\n",
    "for i in range(1, num_rows):\n",
    "    for j in range(1, num_cols):\n",
    "        if seq2[i-1] == seq1[j-1]:\n",
    "            match_mismatch_score = F[i-1][j-1] + match_score\n",
    "        elif seq2[i-1] != seq1[j-1]:\n",
    "            match_mismatch_score = F[i-1][j-1] + mismatch_score\n",
    "        \n",
    "        right_gap_score = F[i][j-1] + d\n",
    "        left_gap_score = F[i-1][j] + d\n",
    "        \n",
    "        F[i,j] = np.max([match_mismatch_score, right_gap_score, left_gap_score])\n",
    "        which_max = np.argmax([match_mismatch_score, right_gap_score, left_gap_score])\n",
    "        \n",
    "        if which_max == 0:\n",
    "            T[i,j] = 'd' # diagonal\n",
    "        elif which_max == 1:\n",
    "            T[i,j] = 'l' # left\n",
    "        elif which_max == 2:\n",
    "            T[i,j] = 'u' # up\n",
    "            \n",
    "print(F)\n",
    "print(T)"
   ]
  },
  {
   "cell_type": "code",
   "execution_count": 7,
   "id": "cb7e61ad",
   "metadata": {},
   "outputs": [
    {
     "name": "stdout",
     "output_type": "stream",
     "text": [
      "T\n",
      "G\n",
      "TT\n",
      "TG\n",
      "ATT\n",
      "ATG\n",
      "CATT\n",
      "CATG\n",
      "TCATT\n",
      "TCATG\n",
      "TTCATT\n",
      "-TCATG\n",
      "CTTCATT\n",
      "C-TCATG\n",
      "CCTTCATT\n",
      "-C-TCATG\n",
      "TCCTTCATT\n",
      "T-C-TCATG\n",
      "GTCCTTCATT\n",
      "GT-C-TCATG\n",
      "CGTCCTTCATT\n",
      "-GT-C-TCATG\n",
      "ACGTCCTTCATT\n",
      "--GT-C-TCATG\n",
      "ACGTCCTTCATT\n",
      "--GT-C-TCATG\n"
     ]
    }
   ],
   "source": [
    "direction = ' '\n",
    "\n",
    "row_index = num_rows - 1 \n",
    "col_index = num_cols - 1\n",
    "\n",
    "aln_seq1 = ''\n",
    "aln_seq2 = ''\n",
    "\n",
    "while direction != '.':\n",
    "    direction = T[row_index,col_index]\n",
    "    \n",
    "    if direction == 'd':\n",
    "        row_index = row_index - 1\n",
    "        col_index = col_index - 1\n",
    "        aln_seq1 = aln_seq1 + seq1[col_index]\n",
    "        aln_seq2 = aln_seq2 + seq2[row_index]\n",
    "        \n",
    "    elif direction == 'l':\n",
    "        col_index = col_index - 1\n",
    "        aln_seq2 = aln_seq2 + '-'\n",
    "        aln_seq1 = aln_seq1 + seq1[col_index]\n",
    "        \n",
    "    elif direction == 'u':\n",
    "        row_index = row_index - 1\n",
    "        aln_seq1 = aln_seq1 + '-'\n",
    "        aln_seq2 = aln_seq2 + seq2[row_index]\n",
    "        \n",
    "        \n",
    "    print(aln_seq1[::-1])\n",
    "    print(aln_seq2[::-1])"
   ]
  },
  {
   "cell_type": "code",
   "execution_count": null,
   "id": "4e1aafcc",
   "metadata": {},
   "outputs": [],
   "source": []
  }
 ],
 "metadata": {
  "kernelspec": {
   "display_name": "bioinfo24",
   "language": "python",
   "name": "python3"
  },
  "language_info": {
   "codemirror_mode": {
    "name": "ipython",
    "version": 3
   },
   "file_extension": ".py",
   "mimetype": "text/x-python",
   "name": "python",
   "nbconvert_exporter": "python",
   "pygments_lexer": "ipython3",
   "version": "3.13.2"
  }
 },
 "nbformat": 4,
 "nbformat_minor": 5
}
