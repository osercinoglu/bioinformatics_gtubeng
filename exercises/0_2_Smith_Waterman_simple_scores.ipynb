{
 "cells": [
  {
   "cell_type": "code",
   "execution_count": 41,
   "id": "adcc6e18",
   "metadata": {},
   "outputs": [],
   "source": [
    "import itertools\n",
    "import numpy as np\n",
    "\n",
    "def matrix(a, b, match_score=3, gap_cost=2):\n",
    "    H = np.zeros((len(a) + 1, len(b) + 1), np.int)\n",
    "\n",
    "    for i, j in itertools.product(range(1, H.shape[0]), range(1, H.shape[1])):\n",
    "        match = H[i - 1, j - 1] + (match_score if a[i - 1] == b[j - 1] else - match_score)\n",
    "        delete = H[i - 1, j] - gap_cost\n",
    "        insert = H[i, j - 1] - gap_cost\n",
    "        H[i, j] = max(match, delete, insert, 0)\n",
    "    return H"
   ]
  },
  {
   "cell_type": "code",
   "execution_count": 42,
   "id": "55b43968",
   "metadata": {},
   "outputs": [],
   "source": [
    "def traceback(H, b, b_='', old_i=0):\n",
    "    # flip H to get index of **last** occurrence of H.max() with np.argmax()\n",
    "    H_flip = np.flip(np.flip(H, 0), 1)\n",
    "    i_, j_ = np.unravel_index(H_flip.argmax(), H_flip.shape)\n",
    "    i, j = np.subtract(H.shape, (i_ + 1, j_ + 1))  # (i, j) are **last** indexes of H.max()\n",
    "    #print('H',H)\n",
    "    #print('ij',i, j, old_i)\n",
    "    if H[i, j] == 0:\n",
    "        return b_, j\n",
    "    b_ = b[j - 1] + '-' + b_ if old_i - i > 1 else b[j - 1] + b_\n",
    "    #print('b_',b_)\n",
    "    return traceback(H[0:i, 0:j], b, b_, i)"
   ]
  },
  {
   "cell_type": "code",
   "execution_count": 43,
   "id": "f388715f",
   "metadata": {},
   "outputs": [],
   "source": [
    "def smith_waterman(a, b, match_score=3, gap_cost=2):\n",
    "    a, b = a.upper(), b.upper()\n",
    "    H = matrix(a, b, match_score, gap_cost)\n",
    "    b_, pos = traceback(H, b)\n",
    "    return pos, pos + len(b_)"
   ]
  },
  {
   "cell_type": "code",
   "execution_count": 44,
   "id": "ecc07604",
   "metadata": {},
   "outputs": [
    {
     "name": "stdout",
     "output_type": "stream",
     "text": [
      "[[ 0  0  0  0  0  0  0  0  0]\n",
      " [ 0  0  3  1  0  0  0  3  3]\n",
      " [ 0  0  3  1  0  0  0  3  6]\n",
      " [ 0  3  1  6  4  2  0  1  4]\n",
      " [ 0  3  1  4  9  7  5  3  2]\n",
      " [ 0  1  6  4  7  6  4  8  6]\n",
      " [ 0  0  4  3  5 10  8  6  5]\n",
      " [ 0  0  2  1  3  8 13 11  9]\n",
      " [ 0  3  1  5  4  6 11 10  8]\n",
      " [ 0  1  0  3  2  7  9  8  7]]\n",
      "('gtt-ac', 1)\n",
      "GTTGAC\n"
     ]
    },
    {
     "name": "stderr",
     "output_type": "stream",
     "text": [
      "/tmp/ipykernel_36185/2084632750.py:5: DeprecationWarning: `np.int` is a deprecated alias for the builtin `int`. To silence this warning, use `int` by itself. Doing this will not modify any behavior and is safe. When replacing `np.int`, you may wish to use e.g. `np.int64` or `np.int32` to specify the precision. If you wish to review your current use, check the release note link for additional information.\n",
      "Deprecated in NumPy 1.20; for more details and guidance: https://numpy.org/devdocs/release/1.20.0-notes.html#deprecations\n",
      "  H = np.zeros((len(a) + 1, len(b) + 1), np.int)\n"
     ]
    }
   ],
   "source": [
    "# prints correct scoring matrix from Wikipedia example\n",
    "print(matrix('GGTTGACTA', 'TGTTACGG'))\n",
    "\n",
    "a, b = 'ggttgacta', 'tgttacgg'\n",
    "H = matrix(a, b)\n",
    "print(traceback(H, b)) # ('gtt-ac', 1)\n",
    "\n",
    "a, b = 'GGTTGACTA', 'TGTTACGG'\n",
    "start, end = smith_waterman(a, b)\n",
    "print(a[start:end])     # GTTGAC"
   ]
  },
  {
   "cell_type": "code",
   "execution_count": null,
   "id": "f6423352",
   "metadata": {},
   "outputs": [],
   "source": []
  }
 ],
 "metadata": {
  "kernelspec": {
   "display_name": "Python 3 (ipykernel)",
   "language": "python",
   "name": "python3"
  },
  "language_info": {
   "codemirror_mode": {
    "name": "ipython",
    "version": 3
   },
   "file_extension": ".py",
   "mimetype": "text/x-python",
   "name": "python",
   "nbconvert_exporter": "python",
   "pygments_lexer": "ipython3",
   "version": "3.10.6"
  }
 },
 "nbformat": 4,
 "nbformat_minor": 5
}
